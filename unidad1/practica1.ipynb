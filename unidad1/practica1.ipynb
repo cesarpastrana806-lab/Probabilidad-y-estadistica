{
  "nbformat": 4,
  "nbformat_minor": 0,
  "metadata": {
    "colab": {
      "provenance": [],
      "authorship_tag": "ABX9TyNaGn3lYM8Ttlc7uXYXm7re",
      "include_colab_link": true
    },
    "kernelspec": {
      "name": "python3",
      "display_name": "Python 3"
    },
    "language_info": {
      "name": "python"
    }
  },
  "cells": [
    {
      "cell_type": "markdown",
      "metadata": {
        "id": "view-in-github",
        "colab_type": "text"
      },
      "source": [
        "<a href=\"https://colab.research.google.com/github/cesarpastrana806-lab/Probabilidad-y-estadistica/blob/main/unidad1/practica1.ipynb\" target=\"_parent\"><img src=\"https://colab.research.google.com/assets/colab-badge.svg\" alt=\"Open In Colab\"/></a>"
      ]
    },
    {
      "cell_type": "code",
      "execution_count": null,
      "metadata": {
        "id": "x6bP-Rf22N0X"
      },
      "outputs": [],
      "source": [
        "from statistics import *\n",
        "grupoa= [70,70,65,90,100,95,45,80,73,20,100,96]\n",
        "print(grupoa)\n",
        "\n",
        "type(grupoa)\n",
        "\n",
        "promedio = sum(grupoa)/ len(grupoa)\n",
        "print(promedio)\n",
        "\n",
        "promedio2 = mean(grupoa)\n",
        "print(promedio2)\n",
        "\n",
        "\n"
      ]
    },
    {
      "cell_type": "code",
      "source": [
        "#mediana #\n",
        "mediana = median(grupoa)\n",
        "print(mediana)"
      ],
      "metadata": {
        "id": "Ih-a8X085Jbr"
      },
      "execution_count": null,
      "outputs": []
    },
    {
      "cell_type": "code",
      "source": [
        "#moda#\n",
        "moda= mode(grupoa)\n",
        "print(moda)\n",
        "#Moda cuando son dobles#\n",
        "moda2 = multimode(grupoa)\n",
        "print (moda2)\n"
      ],
      "metadata": {
        "id": "avRgREcv5WEz"
      },
      "execution_count": null,
      "outputs": []
    },
    {
      "cell_type": "code",
      "source": [
        "tiempos100mts = [15.10,20.5,18.2,15.10,5,20,6.20,8,6.20,20]\n",
        "print(tiempos100mts)\n",
        "print(\"El tiempo promedio de los correrores es: \",mean(tiempos100mts))\n",
        "print(\"La mediana de los tiempoes de los correroes es: \", mode(tiempos100mts))\n",
        "print(\"La moda de los correros es: \", mode(tiempos100mts))\n",
        "\n"
      ],
      "metadata": {
        "id": "BQtCUV-56D-Y"
      },
      "execution_count": null,
      "outputs": []
    },
    {
      "cell_type": "code",
      "source": [
        "\n",
        "import random\n",
        "\n",
        "fabrica1=[]\n",
        "for i in range(100):\n",
        "  numero_aleatorio =round(random.uniform(50,100),2)\n",
        "  fabrica1.append(numero_aleatorio)\n",
        "\n",
        "print(fabrica1)"
      ],
      "metadata": {
        "colab": {
          "base_uri": "https://localhost:8080/"
        },
        "id": "oiNcuuIj8rAF",
        "outputId": "3f63e6d4-bfe6-439b-9267-ded002a79cf4"
      },
      "execution_count": null,
      "outputs": [
        {
          "output_type": "stream",
          "name": "stdout",
          "text": [
            "[86.97, 74.57, 83.38, 62.11, 98.64, 74.64, 50.51, 57.91, 60.62, 92.33, 75.03, 51.62, 66.69, 69.69, 80.54, 51.03, 70.15, 77.01, 75.54, 60.84, 60.49, 80.07, 86.59, 91.7, 99.37, 78.05, 91.96, 55.28, 73.88, 98.59, 89.42, 64.75, 74.29, 83.48, 61.93, 88.74, 74.49, 99.5, 63.08, 85.22, 65.68, 57.41, 98.2, 50.21, 50.19, 55.0, 53.67, 72.59, 71.39, 97.82, 88.28, 53.68, 93.64, 86.73, 84.17, 57.08, 78.8, 75.27, 91.16, 58.8, 87.58, 89.77, 52.18, 80.54, 95.32, 90.95, 90.85, 98.28, 71.61, 55.6, 63.45, 75.54, 57.71, 55.31, 62.24, 68.25, 84.51, 68.43, 91.4, 65.61, 72.7, 57.5, 75.66, 97.98, 50.61, 90.0, 75.28, 80.07, 74.58, 59.4, 76.14, 58.14, 83.68, 70.6, 71.77, 57.72, 59.37, 80.48, 72.37, 62.96]\n"
          ]
        }
      ]
    }
  ]
}