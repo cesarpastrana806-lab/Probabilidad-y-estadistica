{
  "nbformat": 4,
  "nbformat_minor": 0,
  "metadata": {
    "colab": {
      "provenance": [],
      "authorship_tag": "ABX9TyPUPqm0ybjwaUvE1rnb5xxJ",
      "include_colab_link": true
    },
    "kernelspec": {
      "name": "python3",
      "display_name": "Python 3"
    },
    "language_info": {
      "name": "python"
    }
  },
  "cells": [
    {
      "cell_type": "markdown",
      "metadata": {
        "id": "view-in-github",
        "colab_type": "text"
      },
      "source": [
        "<a href=\"https://colab.research.google.com/github/cesarpastrana806-lab/Probabilidad-y-estadistica/blob/main/unidad1/Practica2.ipynb\" target=\"_parent\"><img src=\"https://colab.research.google.com/assets/colab-badge.svg\" alt=\"Open In Colab\"/></a>"
      ]
    },
    {
      "cell_type": "code",
      "execution_count": 3,
      "metadata": {
        "id": "wrqJ8SKnM-P0"
      },
      "outputs": [],
      "source": [
        "import random\n",
        "import matplotlib.pyplot as plt\n",
        "from statistics import *"
      ]
    },
    {
      "cell_type": "markdown",
      "source": [],
      "metadata": {
        "id": "ijBRpd7lM-6h"
      }
    },
    {
      "cell_type": "code",
      "source": [],
      "metadata": {
        "id": "eUohIeL0NLaY"
      },
      "execution_count": 2,
      "outputs": []
    },
    {
      "cell_type": "code",
      "source": [
        "fabrica1=[]\n",
        "for i in range(100):\n",
        "  numero_aleatorio=round(random.uniform(50, 100), 2 )\n",
        "  fabrica1.append(numero_aleatorio)"
      ],
      "metadata": {
        "id": "JFHTVePNNdTg"
      },
      "execution_count": 6,
      "outputs": []
    },
    {
      "cell_type": "code",
      "source": [
        "fabrica2=[]\n",
        "for i in range(100):\n",
        "  numero_aleatorio2=round(random.uniform(40, 93), 2 )\n",
        "  fabrica2.append(numero_aleatorio2)\n",
        "  print(fabrica2)"
      ],
      "metadata": {
        "id": "B25cd2zeN28S"
      },
      "execution_count": null,
      "outputs": []
    },
    {
      "cell_type": "code",
      "source": [
        "maximo1 = max(fabrica1)\n",
        "minimo1 = min(fabrica1)\n",
        "rango1 = maximo1 - minimo1\n",
        "media1 = mean(fabrica1)\n",
        "mediana1 = median(fabrica1)\n",
        "moda = mode(fabrica1)\n",
        "\n",
        "print(\"Estadistica descriptiva de la fabrica 1 \\n\", \"Media = \", media1, \"\\n Mediana = \",mediana1,\"\\nModa = \",moda, \"\\n Maximo = \",maximo1, \"\\n Minimo = \",minimo1, \"\\n Rango = \",rango1)"
      ],
      "metadata": {
        "id": "HoOPtcmlOUDi"
      },
      "execution_count": null,
      "outputs": []
    },
    {
      "cell_type": "code",
      "source": [
        "maximo2 = max(fabrica2)\n",
        "minimo2 = min(fabrica2)\n",
        "rango2 = maximo2 - minimo2\n",
        "media2 = mean(fabrica2)\n",
        "mediana2 = median(fabrica2)\n",
        "moda2 = mode(fabrica2)\n",
        "\n",
        "print(\"Estadistica descriptiva de la fabrica 2 \\n\", \"Media = \", media2, \"\\n Mediana = \",mediana2,\"\\n Moda= \",moda2, \"\\n Maximo = \",maximo2, \"\\n Minimo = \",minimo2, \"\\n Rango = \",rango2)"
      ],
      "metadata": {
        "id": "cvWsMGltPqp4"
      },
      "execution_count": null,
      "outputs": []
    },
    {
      "cell_type": "code",
      "source": [
        "desviacion_estandar_fabrica1 = stdev(fabrica1)\n",
        "print(desviacion_estandar_fabrica1)"
      ],
      "metadata": {
        "id": "erlpI80zQXLW"
      },
      "execution_count": null,
      "outputs": []
    },
    {
      "cell_type": "code",
      "source": [
        "desviacion_estandar_fabrica2 = stdev(fabrica2)\n",
        "print(desviacion_estandar_fabrica2)"
      ],
      "metadata": {
        "id": "AppILIhnQlNN"
      },
      "execution_count": null,
      "outputs": []
    },
    {
      "cell_type": "code",
      "source": [
        "plt.figure(figsize = (8,6))\n",
        "plt.hist(fabrica1, bins = 10, alpha =0.2, color='b', edgecolor = \"black\")\n",
        "plt.axvline(media1, color='b', lineStyle='dashed', linewdith=2, label=f'Media = {media1:.2f}')\n",
        "plt.axvline(mediana1,color='r', linestyle='dashed', linewdith=2, label=f'Mediana={mediana1:.2f}')\n",
        "plt.axvline(mediana1,color='y', linestyle='dashed', linewdith=2, label=f'media={media1:.2f}')\n"
      ],
      "metadata": {
        "id": "mg77ZZ00Q4zQ"
      },
      "execution_count": null,
      "outputs": []
    }
  ]
}