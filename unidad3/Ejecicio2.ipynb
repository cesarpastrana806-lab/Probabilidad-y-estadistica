{
  "cells": [
    {
      "cell_type": "markdown",
      "metadata": {
        "id": "view-in-github",
        "colab_type": "text"
      },
      "source": [
        "<a href=\"https://colab.research.google.com/github/cesarpastrana806-lab/Probabilidad-y-estadistica/blob/main/unidad3/Ejecicio2.ipynb\" target=\"_parent\"><img src=\"https://colab.research.google.com/assets/colab-badge.svg\" alt=\"Open In Colab\"/></a>"
      ]
    },
    {
      "cell_type": "code",
      "source": [
        "x = [5, 6, 7, 8, 9, 10]     # Valores posibles de la variable aleatoria\n",
        "p = [0.05, 0.10, 0.20, 0.30, 0.25, 0.10]  # Probabilidades correspondientes\n",
        "\n",
        "# Inicializar una variable para acumular la suma\n",
        "valor_esperado = 0\n",
        "\n",
        "# Recorrer los valores y sus probabilidades\n",
        "for i in range(len(x)):\n",
        "    xi = x[i]        # valor de la variable aleatoria\n",
        "    pi = p[i]        # probabilidad de ese valor\n",
        "    producto = xi * pi   # multiplicar valor por su probabilidad\n",
        "    valor_esperado += producto   # sumar al acumulador\n",
        "    # Mostrar cada paso\n",
        "    print(f\"x = {xi}, p = {pi}, x*p = {producto:.2f}\")\n",
        "\n",
        "# Mostrar resultado final\n",
        "print(f\"\\nValor esperado (Esperanza): {valor_esperado:.2f}\")\n"
      ],
      "metadata": {
        "id": "4QK9OSBqKZeX",
        "outputId": "c01f2cdb-117c-4495-ed05-8ba0d4c92eb0",
        "colab": {
          "base_uri": "https://localhost:8080/"
        }
      },
      "execution_count": 1,
      "outputs": [
        {
          "output_type": "stream",
          "name": "stdout",
          "text": [
            "x = 5, p = 0.05, x*p = 0.25\n",
            "x = 6, p = 0.1, x*p = 0.60\n",
            "x = 7, p = 0.2, x*p = 1.40\n",
            "x = 8, p = 0.3, x*p = 2.40\n",
            "x = 9, p = 0.25, x*p = 2.25\n",
            "x = 10, p = 0.1, x*p = 1.00\n",
            "\n",
            "Valor esperado (Esperanza): 7.90\n"
          ]
        }
      ]
    }
  ],
  "metadata": {
    "colab": {
      "name": "Te damos la bienvenida a Colaboratory",
      "provenance": [],
      "include_colab_link": true
    },
    "kernelspec": {
      "display_name": "Python 3",
      "name": "python3"
    }
  },
  "nbformat": 4,
  "nbformat_minor": 0
}